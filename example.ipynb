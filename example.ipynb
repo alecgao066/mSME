{
 "cells": [
  {
   "cell_type": "code",
   "execution_count": 1,
   "metadata": {},
   "outputs": [],
   "source": [
    "from skimage.io import imread, imsave\n",
    "\n",
    "import surface_extraction"
   ]
  },
  {
   "cell_type": "code",
   "execution_count": 29,
   "metadata": {},
   "outputs": [],
   "source": [
    "#  Read image stack\n",
    "img_path = \"data//\"\n",
    "img_file = \"human_tongue_tissue.tif\"\n",
    "img_stack = imread(img_path + img_file).astype('uint16')"
   ]
  },
  {
   "attachments": {},
   "cell_type": "markdown",
   "metadata": {},
   "source": [
    "###  Surface extraction"
   ]
  },
  {
   "cell_type": "code",
   "execution_count": 30,
   "metadata": {},
   "outputs": [
    {
     "name": "stdout",
     "output_type": "stream",
     "text": [
      "Initialization...\n",
      "FFT on z profiles...\n",
      "Clustering z profiles...\n",
      "Initialization time: 5.62s\n",
      "Parameter settings...\n",
      "Parameter settings time: 0.34s\n"
     ]
    }
   ],
   "source": [
    "#  Parameter settings\n",
    "surf = surface_extraction.SurfaceExtraction(img_stack)\n",
    "surf.cluster_method = 'Kmeans'  # Pixel classification - FastSME\n",
    "lambda1, edge_flag2, ind_max =  surf.parameter_setting()"
   ]
  },
  {
   "cell_type": "code",
   "execution_count": 31,
   "metadata": {},
   "outputs": [
    {
     "name": "stdout",
     "output_type": "stream",
     "text": [
      "Smoothing surface...\n",
      "Surface smoothing time: 9.25s\n"
     ]
    }
   ],
   "source": [
    "#  Smooth manifold extraction\n",
    "surf.WW = 1.8  # Adjust local smoothness\n",
    "surf.THRES = 0.1  # Stop criteria\n",
    "ind_maxk = surf.surface_smooth(lambda1, edge_flag2, ind_max)"
   ]
  },
  {
   "attachments": {},
   "cell_type": "markdown",
   "metadata": {},
   "source": [
    "###  Rapid surface extraction (GPU parallel computing)"
   ]
  },
  {
   "attachments": {},
   "cell_type": "markdown",
   "metadata": {},
   "source": [
    "mSME extracts a more comprehensive surface, especially on large surfaces with various signal types."
   ]
  },
  {
   "cell_type": "code",
   "execution_count": 35,
   "metadata": {},
   "outputs": [
    {
     "name": "stdout",
     "output_type": "stream",
     "text": [
      "Initialization...\n",
      "FFT on z profiles...\n",
      "Thresholding z profiles...\n",
      "Initialization time: 5.35s\n",
      "Parameter settings...\n",
      "Parameter settings time: 0.30s\n"
     ]
    }
   ],
   "source": [
    "#  Parameter settings\n",
    "r_surf = surface_extraction.RapidSurfaceExtraction(img_stack)\n",
    "r_surf.cluster_method = 'Projection'  # Pixel classification - mSME\n",
    "r_surf.RLX = 0.5  # Improve low-intensity signal extraction\n",
    "lambda1, edge_flag2, ind_max =  r_surf.rapid_parameter_setting()"
   ]
  },
  {
   "attachments": {},
   "cell_type": "markdown",
   "metadata": {},
   "source": [
    "GPU acceleration is more significant on large image stacks where the processing time can be prohibitive."
   ]
  },
  {
   "cell_type": "code",
   "execution_count": 36,
   "metadata": {},
   "outputs": [
    {
     "name": "stdout",
     "output_type": "stream",
     "text": [
      "Smoothing surface...\n",
      "Resolution scale 0\n",
      "Allocated device memory: 47.2MB\n",
      "Memory pool usage: 55.1MB\n",
      "Resolution scale 1\n",
      "Allocated device memory: 89.6MB\n",
      "Memory pool usage: 107.9MB\n",
      "Resolution scale 2\n",
      "Allocated device memory: 259.2MB\n",
      "Memory pool usage: 272.2MB\n",
      "Surface smoothing time: 2.49s\n"
     ]
    }
   ],
   "source": [
    "#  Smooth manifold extraction\n",
    "r_surf.WW = 1.8  # Adjust local smoothness\n",
    "r_surf.THRES = 0.1  # Stop criteria\n",
    "ind_maxk = r_surf.surface_smooth(lambda1, edge_flag2, ind_max)"
   ]
  },
  {
   "attachments": {},
   "cell_type": "markdown",
   "metadata": {},
   "source": [
    "### Saving results"
   ]
  },
  {
   "attachments": {},
   "cell_type": "markdown",
   "metadata": {},
   "source": [
    "Cutting artifacts are seen on the right side of the superficial surface"
   ]
  },
  {
   "cell_type": "code",
   "execution_count": 38,
   "metadata": {},
   "outputs": [
    {
     "name": "stdout",
     "output_type": "stream",
     "text": [
      "Extracting surface at depth 0\n"
     ]
    }
   ],
   "source": [
    "#  Extract superficial surface\n",
    "d = 0\n",
    "ind_surf, surface = r_surf.surface_extract(ind_maxk, depth=d, continuity=True)\n",
    "#  Save surface\n",
    "output_path = img_path + \"results//\"\n",
    "imsave(output_path + \"surf_d\" + str(d) + \"_\" + img_file, surface.astype('uint16'))"
   ]
  },
  {
   "attachments": {},
   "cell_type": "markdown",
   "metadata": {},
   "source": [
    "A better surface with clear tissue structures (~10 $\\mu m$ beneath actual surface)"
   ]
  },
  {
   "cell_type": "code",
   "execution_count": 39,
   "metadata": {},
   "outputs": [
    {
     "name": "stdout",
     "output_type": "stream",
     "text": [
      "Extracting surface at depth 5\n"
     ]
    }
   ],
   "source": [
    "#  Extract surface at depth 5\n",
    "d = 5\n",
    "ind_surf, surface = r_surf.surface_extract(ind_maxk, depth=d, continuity=True)\n",
    "#  Save surface\n",
    "output_path = img_path + \"results//\"\n",
    "imsave(output_path + \"surf_d \"+ str(d) + \"_\" + img_file, surface.astype('uint16'))"
   ]
  }
 ],
 "metadata": {
  "kernelspec": {
   "display_name": "cellpose",
   "language": "python",
   "name": "python3"
  },
  "language_info": {
   "codemirror_mode": {
    "name": "ipython",
    "version": 3
   },
   "file_extension": ".py",
   "mimetype": "text/x-python",
   "name": "python",
   "nbconvert_exporter": "python",
   "pygments_lexer": "ipython3",
   "version": "3.7.10"
  },
  "vscode": {
   "interpreter": {
    "hash": "a1cdccc21041f9f16c01245cdf89a096c31ae338b334e1a846de5dcb583c77c7"
   }
  }
 },
 "nbformat": 4,
 "nbformat_minor": 4
}
